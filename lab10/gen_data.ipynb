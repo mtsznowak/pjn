{
 "cells": [
  {
   "cell_type": "markdown",
   "metadata": {},
   "source": [
    "# Kadencja 8, 1.1 GB, 14k wypowiedzi"
   ]
  },
  {
   "cell_type": "code",
   "execution_count": null,
   "metadata": {},
   "outputs": [],
   "source": [
    "import xml.etree.ElementTree as ET\n",
    "import os\n",
    "from functools import reduce\n",
    "rootdir = 'PSC/Interpelacje/kadencja8'\n",
    "\n",
    "\n",
    "x_data = []\n",
    "y_data = []\n",
    "names = []\n",
    "\n",
    "for subdir, dirs, files in os.walk(rootdir):    \n",
    "    for d in dirs:\n",
    "        basedir = os.path.join(subdir, d)\n",
    "        xml_data = os.path.join(basedir, 'text_structure.xml')\n",
    "        xml_header = os.path.join(basedir, 'header.xml')\n",
    "\n",
    "        author = ET.parse(xml_header).getroot()\\\n",
    "            .find('{http://www.tei-c.org/ns/1.0}fileDesc')\\\n",
    "            .find('{http://www.tei-c.org/ns/1.0}sourceDesc')\\\n",
    "            .find('{http://www.tei-c.org/ns/1.0}bibl')\\\n",
    "            .find('{http://www.tei-c.org/ns/1.0}author')\\\n",
    "            .text\n",
    "        \n",
    "        divs = ET.parse(xml_data).getroot()\\\n",
    "            .find('{http://www.tei-c.org/ns/1.0}TEI')\\\n",
    "            .find('{http://www.tei-c.org/ns/1.0}text')\\\n",
    "            .find('{http://www.tei-c.org/ns/1.0}body')\\\n",
    "            .findall('{http://www.tei-c.org/ns/1.0}p')\n",
    "\n",
    "        \n",
    "        \n",
    "        author = author.split('-')[0].strip()\n",
    "        gender = None\n",
    "        \n",
    "        text = \"\"\n",
    "        if sum(1 for c in author if c.isupper()) <= 3:\n",
    "            \n",
    "            for div in divs:\n",
    "                if(div.text):\n",
    "                    text += div.text + \" \"\n",
    "                \n",
    "            name = author.split(\" \")[0]\n",
    "            gender = \"f\" if name[-1] == 'a' else \"m\"\n",
    "            \n",
    "            x_data.append(text.lower())\n",
    "            y_data.append(gender)\n",
    "            names.append(author)\n",
    "            \n",
    "\n"
   ]
  },
  {
   "cell_type": "code",
   "execution_count": 142,
   "metadata": {},
   "outputs": [],
   "source": [
    "output_file = open(\"data\", \"w\")\n",
    "for label, text in zip(y_data, x_data):\n",
    "    output_file.write(\"__label__%s %s\\n\" % (label, text))\n",
    "    \n",
    "output_file.close()"
   ]
  },
  {
   "cell_type": "markdown",
   "metadata": {},
   "source": [
    "## in shell\n",
    "```bash\n",
    "head -n 13000 data > data.train   \n",
    "tail -n 1718 data > data.test\n",
    "fasttext supervised -input data.train -output model -lr 1.0  -epoch 50\n",
    "fasttext predict model.bin data.test > results\n",
    "```"
   ]
  },
  {
   "cell_type": "code",
   "execution_count": 162,
   "metadata": {},
   "outputs": [
    {
     "name": "stdout",
     "output_type": "stream",
     "text": [
      "             precision    recall  f1-score   support\n",
      "\n",
      "    kobiety       0.76      0.63      0.69       334\n",
      "  mężczyźni       0.91      0.95      0.93      1384\n",
      "\n",
      "avg / total       0.88      0.89      0.88      1718\n",
      "\n"
     ]
    }
   ],
   "source": [
    "from sklearn.metrics import classification_report\n",
    "\n",
    "results_file = open(\"results\" ,\"r\")\n",
    "y_test_file = open(\"data.test\", \"r\")\n",
    "\n",
    "y_test = [line.split(\" \")[0].replace(\"__label__\", \"\") for line in y_test_file.readlines()]\n",
    "results = [line.replace(\"__label__\", \"\").strip() for line in results_file.readlines()]\n",
    "\n",
    "print(classification_report(y_test, results, target_names=['kobiety', 'mężczyźni']))\n"
   ]
  },
  {
   "cell_type": "markdown",
   "metadata": {},
   "source": [
    "# Kadencja 7 - 8GB, 80k wypowiedzi"
   ]
  },
  {
   "cell_type": "code",
   "execution_count": 1,
   "metadata": {},
   "outputs": [],
   "source": [
    "import xml.etree.ElementTree as ET\n",
    "import os\n",
    "from functools import reduce\n",
    "rootdir = 'PSC/Interpelacje/kadencja7'\n",
    "\n",
    "\n",
    "x_data = []\n",
    "y_data = []\n",
    "names = []\n",
    "\n",
    "for subdir, dirs, files in os.walk(rootdir):    \n",
    "    for d in dirs:\n",
    "        basedir = os.path.join(subdir, d)\n",
    "        xml_data = os.path.join(basedir, 'text_structure.xml')\n",
    "        xml_header = os.path.join(basedir, 'header.xml')\n",
    "\n",
    "        author = ET.parse(xml_header).getroot()\\\n",
    "            .find('{http://www.tei-c.org/ns/1.0}fileDesc')\\\n",
    "            .find('{http://www.tei-c.org/ns/1.0}sourceDesc')\\\n",
    "            .find('{http://www.tei-c.org/ns/1.0}bibl')\\\n",
    "            .find('{http://www.tei-c.org/ns/1.0}author')\\\n",
    "            .text\n",
    "        \n",
    "        divs = ET.parse(xml_data).getroot()\\\n",
    "            .find('{http://www.tei-c.org/ns/1.0}TEI')\\\n",
    "            .find('{http://www.tei-c.org/ns/1.0}text')\\\n",
    "            .find('{http://www.tei-c.org/ns/1.0}body')\\\n",
    "            .findall('{http://www.tei-c.org/ns/1.0}p')\n",
    "\n",
    "        \n",
    "        \n",
    "        author = author.split('-')[0].strip()\n",
    "        gender = None\n",
    "        \n",
    "        text = \"\"\n",
    "        if sum(1 for c in author if c.isupper()) <= 3:\n",
    "            \n",
    "            for div in divs:\n",
    "                if(div.text):\n",
    "                    text += div.text + \" \"\n",
    "                \n",
    "            name = author.split(\" \")[0]\n",
    "            gender = \"f\" if name[-1] == 'a' else \"m\"\n",
    "            \n",
    "            x_data.append(text.lower())\n",
    "            y_data.append(gender)\n",
    "            names.append(author)\n",
    "            "
   ]
  },
  {
   "cell_type": "code",
   "execution_count": 2,
   "metadata": {},
   "outputs": [],
   "source": [
    "output_file = open(\"data\", \"w\")\n",
    "for label, text in zip(y_data, x_data):\n",
    "    output_file.write(\"__label__%s %s\\n\" % (label, text))\n",
    "    \n",
    "output_file.close()"
   ]
  },
  {
   "cell_type": "markdown",
   "metadata": {},
   "source": [
    "## in shell\n",
    "```bash\n",
    "head -n 70000 data > data.train   \n",
    "tail -n 9233 data > data.test\n",
    "fasttext supervised -input data.train -output model -lr 1.0  -epoch 50\n",
    "fasttext predict model.bin data.test > results\n",
    "```"
   ]
  },
  {
   "cell_type": "code",
   "execution_count": 7,
   "metadata": {},
   "outputs": [
    {
     "name": "stdout",
     "output_type": "stream",
     "text": [
      "             precision    recall  f1-score   support\n",
      "\n",
      "    kobiety       0.95      0.87      0.91      1900\n",
      "  mężczyźni       0.97      0.99      0.98      7333\n",
      "\n",
      "avg / total       0.96      0.96      0.96      9233\n",
      "\n"
     ]
    }
   ],
   "source": [
    "from sklearn.metrics import classification_report\n",
    "\n",
    "results_file = open(\"results\" ,\"r\")\n",
    "y_test_file = open(\"data.test\", \"r\")\n",
    "\n",
    "y_test = [line.split(\" \")[0].replace(\"__label__\", \"\") for line in y_test_file.readlines()]\n",
    "results = [line.replace(\"__label__\", \"\").strip() for line in results_file.readlines()]\n",
    "\n",
    "print(classification_report(y_test, results, target_names=['kobiety', 'mężczyźni']))\n"
   ]
  },
  {
   "cell_type": "code",
   "execution_count": null,
   "metadata": {},
   "outputs": [],
   "source": []
  }
 ],
 "metadata": {
  "kernelspec": {
   "display_name": "Python 3",
   "language": "python",
   "name": "python3"
  },
  "language_info": {
   "codemirror_mode": {
    "name": "ipython",
    "version": 3
   },
   "file_extension": ".py",
   "mimetype": "text/x-python",
   "name": "python",
   "nbconvert_exporter": "python",
   "pygments_lexer": "ipython3",
   "version": "3.6.5"
  }
 },
 "nbformat": 4,
 "nbformat_minor": 2
}
