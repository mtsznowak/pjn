{
 "cells": [
  {
   "cell_type": "code",
   "execution_count": 1,
   "metadata": {},
   "outputs": [],
   "source": [
    "data = open(\"output\", \"r\")\n",
    "text = data.read()\n",
    "data.close()\n",
    "\n",
    "# text = text[:10000]"
   ]
  },
  {
   "cell_type": "code",
   "execution_count": 2,
   "metadata": {},
   "outputs": [],
   "source": [
    "from gensim.summarization.textcleaner import split_sentences\n",
    "sentences = split_sentences(text)\n",
    "text = None\n",
    "model = None\n",
    "data = None"
   ]
  },
  {
   "cell_type": "code",
   "execution_count": 3,
   "metadata": {},
   "outputs": [],
   "source": [
    "from gensim.utils import simple_tokenize\n",
    "sentences = [list(simple_tokenize(s.lower())) for s in sentences]"
   ]
  },
  {
   "cell_type": "code",
   "execution_count": 10,
   "metadata": {},
   "outputs": [],
   "source": [
    "import pickle\n",
    "for i in range(0,10000):\n",
    "    if i*3000000 > 16528555:\n",
    "        break\n",
    "    d = (i+1) * 3000000\n",
    "    \n",
    "    if d > 16528555:\n",
    "        d = 16528555\n",
    "    \n",
    "    pickle.dump( sentences[i*3000000:d], open( \"sentences_tokenized\"+str(i), \"wb\" ) )"
   ]
  },
  {
   "cell_type": "code",
   "execution_count": 1,
   "metadata": {},
   "outputs": [],
   "source": [
    "import pickle\n",
    "sentences = []\n",
    "for i in range(0,4):\n",
    "    sentences = sentences + pickle.load( open( \"sentences_tokenized\"+str(i), \"rb\" ) )"
   ]
  },
  {
   "cell_type": "code",
   "execution_count": 2,
   "metadata": {},
   "outputs": [
    {
     "name": "stdout",
     "output_type": "stream",
     "text": [
      "12000000\n"
     ]
    }
   ],
   "source": [
    "print(len(sentences))"
   ]
  },
  {
   "cell_type": "code",
   "execution_count": 3,
   "metadata": {},
   "outputs": [],
   "source": [
    "\n",
    "\n",
    "from gensim.models.phrases import Phrases, Phraser\n",
    "\n",
    "phrases = Phrases(sentences)\n",
    "bigram = Phraser(phrases)\n",
    "\n",
    "sentences = [bigram[s] for s in sentences] "
   ]
  },
  {
   "cell_type": "code",
   "execution_count": 4,
   "metadata": {},
   "outputs": [],
   "source": [
    "import pickle\n",
    "pickle.dump( sentences, open( \"sentences_phrased\", \"wb\" ) )\n",
    "pickle.dump( bigram, open( \"bigram\", \"wb\" ) )"
   ]
  },
  {
   "cell_type": "code",
   "execution_count": 1,
   "metadata": {},
   "outputs": [],
   "source": [
    "import pickle\n",
    "sentences = pickle.load( open( \"sentences_phrased\", \"rb\" ) )\n",
    "bigram = pickle.load( open( \"bigram\", \"rb\" ) )"
   ]
  },
  {
   "cell_type": "code",
   "execution_count": 6,
   "metadata": {},
   "outputs": [],
   "source": [
    "from gensim.models import Word2Vec\n",
    "\n",
    "model = Word2Vec(size=300, window=5, min_count=3, sg=0)\n",
    "\n",
    "model.build_vocab(sentences)\n",
    "model.train(sentences, total_examples=len(sentences), epochs=6)\n",
    "\n",
    "model.save(\"model\")\n"
   ]
  },
  {
   "cell_type": "code",
   "execution_count": null,
   "metadata": {},
   "outputs": [],
   "source": []
  },
  {
   "cell_type": "code",
   "execution_count": 63,
   "metadata": {},
   "outputs": [
    {
     "name": "stdout",
     "output_type": "stream",
     "text": [
      "sąd_najwyższy:\n",
      "[('najwyższy', 0.834610641002655), ('sąd_odwoławczy', 0.7045168876647949), ('sąd_apelacyjny', 0.703677773475647)]\n",
      "\n",
      "\n",
      "trybunał_konstytucyjny:\n",
      "[('trybunał', 0.9643449783325195), ('prokurator_generalny', 0.7042673826217651), ('marszałek_sejmu', 0.6854263544082642)]\n",
      "\n",
      "\n",
      "kodeks_cywilny:\n",
      "[('kodeks_karny', 0.7062203288078308), ('ordynacja_podatkowa', 0.6608834862709045), ('prawo_bankowe', 0.6471465229988098)]\n",
      "\n",
      "\n",
      "kpk:\n",
      "[('kpc', 0.6768637895584106), ('kk', 0.6506270170211792), ('kpa', 0.6211248636245728)]\n",
      "\n",
      "\n",
      "sąd_rejonowy:\n",
      "[('sąd_okręgowy', 0.8922678232192993), ('sąd_wojewódzki', 0.8531134128570557), ('sąd_apelacyjny', 0.7890136241912842)]\n",
      "\n",
      "\n",
      "szkoda:\n",
      "[('szkoda_majątkowa', 0.7147274017333984), ('krzywda', 0.7087323069572449), ('strata', 0.6433978080749512)]\n",
      "\n",
      "\n",
      "wypadek:\n",
      "[('przypadek', 0.5935612916946411), ('skutek', 0.5143119096755981), ('moment', 0.46816909313201904)]\n",
      "\n",
      "\n",
      "kolizja:\n",
      "[('dysproporcja', 0.7229409217834473), ('kumulacja', 0.647812008857727), ('sfera', 0.6313716769218445)]\n",
      "\n",
      "\n",
      "szkoda_majątkowa:\n",
      "[('krzywda', 0.7234692573547363), ('szkoda', 0.7147274017333984), ('strata', 0.6695074439048767)]\n",
      "\n",
      "\n",
      "nieszczęście:\n",
      "[('strzałkowego', 0.8443275690078735), ('rafacz_krzyżanowskiej', 0.8438565731048584), ('apelacyjnych_limitowanych', 0.8430182933807373)]\n",
      "\n",
      "\n",
      "rozwód:\n",
      "[('zaprzeczenie_ojcostwa', 0.6416501998901367), ('unieważnienie_małżeństwa', 0.638432502746582), ('separację', 0.6037917137145996)]\n",
      "\n",
      "\n"
     ]
    }
   ],
   "source": [
    "def sims(phr):\n",
    "    q = phr.lower().split()\n",
    "    q = bigram[q]\n",
    "    print(q[0] + \":\")\n",
    "    sim = model.wv.most_similar(positive=q, topn=3)\n",
    "#     sim = [s for s, v in sim]\n",
    "    print(sim)\n",
    "    print(\"\\n\")\n",
    "    \n",
    "sims(\"Sąd Najwyższy\")\n",
    "sims(\"Trybunał Konstytucyjny\")\n",
    "sims(\"kodeks cywilny\")\n",
    "sims(\"kpk\")\n",
    "sims(\"sąd rejonowy\")\n",
    "sims(\"szkoda\")\n",
    "sims(\"wypadek\")\n",
    "sims(\"kolizja\")\n",
    "sims(\"szkoda majątkowa\")\n",
    "sims(\"nieszczęście\")\n",
    "sims(\"rozwód\")"
   ]
  },
  {
   "cell_type": "code",
   "execution_count": 60,
   "metadata": {},
   "outputs": [
    {
     "name": "stdout",
     "output_type": "stream",
     "text": [
      "Sąd najwyższy - kpc + konstytucja =\n",
      "[('sąd_najwyższy', 0.6739321351051331), ('trybunał', 0.6360857486724854), ('konstytucja', 0.6339229345321655), ('trybunał_konstytucyjny', 0.6304061412811279), ('najwyższy', 0.6178976893424988)]\n",
      "\n",
      "\n",
      "pasażer - mężczyzna + kobieta =\n",
      "[('kombinacja', 0.39357656240463257), ('substancja', 0.37029629945755005), ('prezentacja', 0.3659500181674957), ('czynność_cywilnoprawna', 0.36218154430389404), ('nieprawdziwa_informacja', 0.36047670245170593)]\n",
      "\n",
      "\n",
      "samochód - droga + rzeka = \n",
      "[('samochód', 0.7158123254776001), ('pojazd', 0.6010066270828247), ('towar', 0.5734782218933105), ('nóż', 0.5534265041351318), ('samochód_osobowy', 0.5490683913230896)]\n"
     ]
    }
   ],
   "source": [
    "def tok(phr):\n",
    "    q = phr.lower().split()\n",
    "    return bigram[q]\n",
    "\n",
    "def do_vec(phr):\n",
    "    return model.wv[tok(phr)].reshape(300)\n",
    "\n",
    "a = do_vec(\"Sąd najwyższy\") - do_vec(\"kpc\") + do_vec(\"konstytucja\")\n",
    "print(\"Sąd najwyższy - kpc + konstytucja =\")\n",
    "print(model.wv.similar_by_vector(a,topn=5))\n",
    "print(\"\\n\")\n",
    "\n",
    "print(\"pasażer - mężczyzna + kobieta =\")\n",
    "b = do_vec(\"pasażer\") - do_vec(\"mężczyzna\") + do_vec(\"kobieta\")\n",
    "print(model.wv.similar_by_vector(b, topn=5))\n",
    "print(\"\\n\")\n",
    "\n",
    "print(\"samochód - droga + rzeka = \")\n",
    "c = do_vec(\"samochód\") - do_vec(\"droga\") + do_vec(\"rzeka\")\n",
    "print(model.wv.similar_by_vector(c, topn=5))"
   ]
  },
  {
   "cell_type": "code",
   "execution_count": 61,
   "metadata": {},
   "outputs": [
    {
     "data": {
      "image/png": "[encoded data removed]",
      "text/plain": [
       "<matplotlib.figure.Figure at 0x7f620149d278>"
      ]
     },
     "metadata": {},
     "output_type": "display_data"
    }
   ],
   "source": [
    "import numpy as np\n",
    "from sklearn.manifold import TSNE\n",
    "from matplotlib import pyplot as plt\n",
    "\n",
    "labels = [\n",
    "    \"szkoda\",\n",
    "    \"strata\",\n",
    "    \"uszczerbek\",\n",
    "    \"szkoda majątkowa\",\n",
    "#     \"uszczerbek na zdrowiu\",\n",
    "    \"krzywda\",\n",
    "    \"niesprawiedliwość\",\n",
    "    \"nieszczęście\"\n",
    "]\n",
    "\n",
    "X = np.array([do_vec(w) for w in labels])\n",
    "\n",
    "X_embedded = TSNE(n_components=2).fit_transform(X)\n",
    "\n",
    "# plot the result\n",
    "vis_x = X_embedded[:, 0]\n",
    "vis_y = X_embedded[:, 1]\n",
    "\n",
    "fig, ax = plt.subplots()\n",
    "ax.scatter(vis_x, vis_y)\n",
    "\n",
    "for i, txt in enumerate(labels):\n",
    "    ax.annotate(txt, (vis_x[i],vis_y[i]))\n",
    "    \n",
    "plt.show()"
   ]
  },
  {
   "cell_type": "code",
   "execution_count": null,
   "metadata": {},
   "outputs": [],
   "source": []
  }
 ],
 "metadata": {
  "kernelspec": {
   "display_name": "Python 3",
   "language": "python",
   "name": "python3"
  },
  "language_info": {
   "codemirror_mode": {
    "name": "ipython",
    "version": 3
   },
   "file_extension": ".py",
   "mimetype": "text/x-python",
   "name": "python",
   "nbconvert_exporter": "python",
   "pygments_lexer": "ipython3",
   "version": "3.6.5"
  }
 },
 "nbformat": 4,
 "nbformat_minor": 2
}
